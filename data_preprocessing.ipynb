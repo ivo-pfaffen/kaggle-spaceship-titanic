{
 "cells": [
  {
   "cell_type": "markdown",
   "metadata": {},
   "source": [
    "## Data processing\n",
    "The competition provides three files: \n",
    "* `train.csv`: personal records for about two-thirds (~8700) of the passengers, to be used as training data\n",
    "* `test.csv`: personal records for the remaining one-third (~4300) of the passengers, to be used as test data\n",
    "* `sample_submission`: a submission file in the correct format\n",
    "Which are all located in the `data/` directory.\n",
    "\n",
    "Our first task is to load and preprocess the data to be able to feed it into our neural network for training. As we can see, there's lots of non-numerical data.\n",
    "We are going to perform feature encoding for each of the columns containing non-numerical data, and some feature engineering after that to (potentially) improve the model's performance. \n",
    "\n",
    "### First things first\n",
    "Importing libraries. Make sure you have them installed (check the instructions in the `README.md`)"
   ]
  },
  {
   "cell_type": "code",
   "execution_count": null,
   "metadata": {},
   "outputs": [
    {
     "name": "stdout",
     "output_type": "stream",
     "text": [
      "Index(['PassengerId', 'HomePlanet', 'CryoSleep', 'Cabin', 'Destination', 'Age',\n",
      "       'VIP', 'RoomService', 'FoodCourt', 'ShoppingMall', 'Spa', 'VRDeck',\n",
      "       'Name'],\n",
      "      dtype='object')\n"
     ]
    }
   ],
   "source": [
    "import re\n",
    "import random\n",
    "from statistics import mean\n",
    "from collections import Counter\n",
    "import numpy as np\n",
    "import pandas as pd\n",
    "import seaborn as sns\n",
    "import matplotlib.pyplot as plt\n",
    "\n",
    "from sklearn.preprocessing import StandardScaler\n",
    "from sklearn.model_selection import train_test_split\n",
    "from sklearn.metrics import confusion_matrix, classification_report\n",
    "\n",
    "# Load training and test data\n",
    "base_file_path = \"./data/\"\n",
    "test_data = pd.read_csv(base_file_path+'test.csv')\n",
    "training_data = pd.read_csv(base_file_path+'train.csv')\n",
    "print(training_data.columns)\n",
    "\n",
    "pd.set_option('future.no_silent_downcasting', True)"
   ]
  },
  {
   "cell_type": "markdown",
   "metadata": {},
   "source": [
    "### Turning planets into numbers\n",
    "We will turn the `HomePlanet` and `Destination` columns into numeric values representing each planet"
   ]
  },
  {
   "cell_type": "code",
   "execution_count": 2,
   "metadata": {},
   "outputs": [],
   "source": [
    "# Drop the \"Name\" column - we won't be using that data to train the model\n",
    "training_data = training_data.drop('Name', axis=1)\n",
    "\n",
    "# Load the 'HomePlanet' and'\"Destination' columns\n",
    "home_planets = training_data.get('HomePlanet').unique().tolist()[:-1]\n",
    "destinations = training_data.get('Destination').unique().tolist()[:-1]\n",
    "\n",
    "# Convert both columns to a dictionary \n",
    "home_planets_map = {k: v for v, k in enumerate(home_planets)}\n",
    "destinations_map = {k: v for v, k in enumerate(destinations)}\n",
    "\n",
    "# Turn both columns into their respective keys in the dictionary\n",
    "training_data['HomePlanet'] = training_data['HomePlanet'].replace(home_planets_map)\n",
    "training_data['Destination'] = training_data['Destination'].replace(destinations_map)\n",
    "\n",
    "# Mark them as numeric\n",
    "training_data['HomePlanet'] = pd.to_numeric(training_data['HomePlanet'], errors='coerce')\n",
    "training_data['Destination'] = pd.to_numeric(training_data['Destination'], errors='coerce')"
   ]
  },
  {
   "cell_type": "markdown",
   "metadata": {},
   "source": [
    "### Cabin IDs are a problem\n",
    "Cabin IDs are structured as follows: \"letter/number/letter\" (i.e B/0/P).\n",
    "\n",
    "We need to:\n",
    "- encode them\n",
    "- replace missing values in a non-random way\n",
    "\n",
    "The number in the middle seems to be increasing non-monotonically, so I decided to replace missing values for a random number in the following range: $|(\\text{prev valid value} - 5, \\text{prev valid value})|$.\n",
    "\n",
    "For the letters, it's clear that they repeat, so I decided to we create probability mappings and replace missing letters based on those."
   ]
  },
  {
   "cell_type": "code",
   "execution_count": 3,
   "metadata": {},
   "outputs": [],
   "source": [
    "\n",
    "# Get the 'Cabin' column, whose values are formatted as 'letter/number/letter'\n",
    "cabins = training_data.get('Cabin')\n",
    "\n",
    "# Separate 'Cabin' into 'Cabin_N' with N \\in {1,2,3}\n",
    "pattern = re.compile(r'^([a-zA-Z])/(\\d+)/([a-zA-Z])$')\n",
    "\n",
    "parsed_cabins = [\n",
    "    (matches.group(1), int(matches.group(2)), matches.group(3)) if (matches := pattern.match(str(cabin)))\n",
    "    else ('NA', -1, 'NA')\n",
    "    for cabin in cabins\n",
    "]\n",
    "\n",
    "# Transpose the parsed_cabins to separate lists for cabin_1, cabin_2, and cabin_3\n",
    "cabin_1, cabin_2, cabin_3 = map(list, zip(*parsed_cabins))\n",
    "\n",
    "# Replace missing numbers for a random value in |(previous valid value - 5, previous valid value)| \n",
    "# just because it seems to work\n",
    "prev_valid_val = None\n",
    "cabin_2 = [abs(random.randint(prev_valid_val-10, prev_valid_val)) if x == -1 else (prev_valid_val := x) for x in cabin_2]\n",
    "\n",
    "\n",
    "# Methods to compute probabilities for letter in the cabin IDs\n",
    "def list_to_probability_mapping(value_list):\n",
    "    value_counts = Counter(value_list)\n",
    "    total_count = len(value_list)\n",
    "\n",
    "    probability_mapping = {value: count / total_count for value, count in value_counts.items()}\n",
    "\n",
    "    return probability_mapping\n",
    "\n",
    "def get_index_from_probability_mapping(probability_mapping):\n",
    "    indices = list(range(len(probability_mapping)))\n",
    "    probabilities = list(probability_mapping.values())\n",
    "    return np.random.choice(indices, p=probabilities)\n",
    "\n",
    "def get_mean_val_randomized(dictionary):\n",
    "  return int(np.random.normal(loc=mean(dictionary), scale=2))\n",
    "\n",
    "# Create probability mappings\n",
    "cabin_1_map = list_to_probability_mapping(cabin_1)\n",
    "cabin_3_map = list_to_probability_mapping(cabin_3)\n",
    "\n",
    "# Replace missing letters for another value, weighing probability\n",
    "cabin_1 = [get_index_from_probability_mapping(cabin_1_map) if x == 'NA' else x for x in cabin_1]\n",
    "cabin_3 = [get_index_from_probability_mapping(cabin_3_map) if x == 'NA' else x for x in cabin_3]\n",
    "\n",
    "# Replace the 'Cabin' column for 'Cabin_ID_1, Cabin_ID_2, Cabin_ID_3' with their respective values\n",
    "training_data = training_data.drop('Cabin', axis=1)\n",
    "training_data['Cabin_ID_1'] = cabin_1\n",
    "training_data['Cabin_ID_2'] = cabin_2\n",
    "training_data['Cabin_ID_3'] = cabin_3"
   ]
  },
  {
   "cell_type": "markdown",
   "metadata": {},
   "source": [
    "### Turning booleans into numbers is easier\n",
    "The \"CryoSleep\", \"VIP\" and \"Transported\" columns can be turned into numbers trivially."
   ]
  },
  {
   "cell_type": "code",
   "execution_count": null,
   "metadata": {},
   "outputs": [],
   "source": [
    "training_data['CryoSleep'] = np.where(training_data['CryoSleep'] == True, 1, 0)\n",
    "training_data['VIP'] = np.where(training_data['VIP'] == True, 1, 0)\n",
    "training_data['Transported'] = np.where(training_data['Transported'] == True, 1, 0)"
   ]
  },
  {
   "cell_type": "markdown",
   "metadata": {},
   "source": [
    "### What are CabinIDs, tho?\n",
    "We plot a heatmap to visualize the value distribution and correlation between the Cabin_ID_1 and Cabin_ID_3 values. We also check the cardinality of each variable."
   ]
  },
  {
   "cell_type": "code",
   "execution_count": 5,
   "metadata": {},
   "outputs": [
    {
     "data": {
      "image/png": "[encoded data removed]",
      "text/plain": [
       "<Figure size 800x600 with 2 Axes>"
      ]
     },
     "metadata": {},
     "output_type": "display_data"
    },
    {
     "name": "stdout",
     "output_type": "stream",
     "text": [
      "16 5\n",
      "['G' 'F' 'C' 'B' 'D' 'E' 0 'A' 6 1 3 7 'T' 4 5 2] ['S' 'P' 1 0 2]\n"
     ]
    }
   ],
   "source": [
    "# Create a count of each combination\n",
    "counts = training_data.groupby(['Cabin_ID_1', 'Cabin_ID_3']).size().unstack(fill_value=0)\n",
    "\n",
    "# Create the heatmap\n",
    "plt.figure(figsize=(8, 6))\n",
    "sns.heatmap(counts, annot=True, cmap=\"YlGnBu\", fmt='d')\n",
    "plt.title('Heatmap of Non-Numerical Values')\n",
    "plt.xlabel('Cabin_ID_3')\n",
    "plt.ylabel('Cabin_ID_1')\n",
    "plt.show()\n",
    "\n",
    "# Check cardinality\n",
    "print(training_data['Cabin_ID_1'].nunique(), training_data['Cabin_ID_3'].nunique())\n",
    "print(training_data['Cabin_ID_1'].unique(), training_data['Cabin_ID_3'].unique())\n"
   ]
  },
  {
   "cell_type": "markdown",
   "metadata": {},
   "source": [
    "There are some interesting results, so I'll keep the plot here.\n",
    "\n",
    "Given the cardinalities are low (and I want to train the NN and check accuracy), \n",
    "I'll just replace each category with a small integer, and improve on it later if necessary."
   ]
  },
  {
   "cell_type": "code",
   "execution_count": 6,
   "metadata": {},
   "outputs": [],
   "source": [
    "# Turn Cabin_ID_1, Cabin_ID_3 into their respective labels\n",
    "training_data['Cabin_ID_1'] = training_data['Cabin_ID_1'].astype('category').cat.codes\n",
    "training_data['Cabin_ID_3'] = training_data['Cabin_ID_3'].astype('category').cat.codes"
   ]
  },
  {
   "cell_type": "markdown",
   "metadata": {},
   "source": [
    "### Finally, turning Passenger IDs into numbers\n",
    "I see that there might be a correlation between Passenger IDs and Cabin IDs (which would make sense if, say, people booked together and were placed in the same cabins). I want to check this, though:"
   ]
  },
  {
   "cell_type": "code",
   "execution_count": 7,
   "metadata": {},
   "outputs": [
    {
     "name": "stdout",
     "output_type": "stream",
     "text": [
      "99.97% of combos map to exactly one deck_num\n"
     ]
    }
   ],
   "source": [
    "# Extract number before '__' from first column\n",
    "training_data['deck_num'] = training_data['PassengerId'].astype(str).str.extract(r'^(\\d+)').astype(float)\n",
    "\n",
    "# Concatenate all three columns into a single string\n",
    "training_data['cabin_combo'] = training_data[['Cabin_ID_1', 'Cabin_ID_2', 'Cabin_ID_3']].astype(str).agg('-'.join, axis=1)\n",
    "\n",
    "# Correlation\n",
    "is_unique = training_data.groupby('cabin_combo')['deck_num'].nunique() == 1\n",
    "print(f\"{is_unique.mean()*100:.2f}% of combos map to exactly one deck_num\")\n",
    "\n",
    "training_data = training_data.drop(['deck_num','cabin_combo'],axis=1)"
   ]
  },
  {
   "cell_type": "markdown",
   "metadata": {},
   "source": [
    "This tells us that CabinIDs are almost entirely determined by PassengerIDs which share the suffix before '__'.\n",
    "I'll just split them into `GroupId`, and then a \"within-group\" index (as `GroupRank`)\n",
    "\n"
   ]
  },
  {
   "cell_type": "code",
   "execution_count": 8,
   "metadata": {},
   "outputs": [],
   "source": [
    "# Split PassengerIDs into groups and \"within-group\" ranks \n",
    "training_data['GroupId']   = training_data['PassengerId'].str.split('_').str[0]\n",
    "training_data['GroupRank'] = training_data['PassengerId'].str.split('_').str[1].astype(int)\n",
    "\n",
    "# Derive a \"gropu size\" feature instead of keeping an arbitrary ID\n",
    "training_data['GroupSize'] = training_data.groupby('GroupId')['GroupId'].transform('count')\n",
    "\n",
    "\n",
    "# Drop the original PassengerId column and the GroupId\n",
    "training_data = training_data.drop(['PassengerId','GroupId'],axis=1)"
   ]
  },
  {
   "cell_type": "markdown",
   "metadata": {},
   "source": [
    "### Done! Let's save the processed training data"
   ]
  },
  {
   "cell_type": "code",
   "execution_count": 9,
   "metadata": {},
   "outputs": [
    {
     "data": {
      "image/png": "[encoded data removed]",
      "text/plain": [
       "<Figure size 640x480 with 1 Axes>"
      ]
     },
     "metadata": {},
     "output_type": "display_data"
    }
   ],
   "source": [
    "spending_categories  = ['RoomService','FoodCourt','ShoppingMall','Spa','VRDeck']\n",
    "\n",
    "for spending_cat in spending_categories:\n",
    "    s = training_data[spending_cat]\n",
    "    is_zero = s == 0\n",
    "    cat = pd.Series(index=s.index, dtype=\"Int64\")\n",
    "    cat[is_zero] = 0\n",
    "    nonzero = s[~is_zero]\n",
    "    cat[~is_zero] = pd.qcut(nonzero, q=3, labels=[1,2,3], duplicates='drop')\n",
    "    training_data[spending_cat+'_Cat'] = cat\n",
    "\n",
    "\n",
    "sns.countplot(data=training_data, x='FoodCourt_Cat', order=[0,1,2,3])\n",
    "plt.show()\n",
    "\n",
    "# Drop the original spending categories\n",
    "training_data = training_data.drop(spending_categories,axis=1)"
   ]
  },
  {
   "cell_type": "markdown",
   "metadata": {},
   "source": [
    "### NaNs...\n",
    "I see that there are lots of missing values. Let's see where exactly:"
   ]
  },
  {
   "cell_type": "code",
   "execution_count": 10,
   "metadata": {},
   "outputs": [
    {
     "name": "stdout",
     "output_type": "stream",
     "text": [
      "NaNs per column:\n",
      "HomePlanet           87\n",
      "CryoSleep             0\n",
      "Destination          92\n",
      "Age                  91\n",
      "VIP                   0\n",
      "Cabin_ID_1            0\n",
      "Cabin_ID_2            0\n",
      "Cabin_ID_3            0\n",
      "GroupRank             0\n",
      "GroupSize             0\n",
      "RoomService_Cat      82\n",
      "FoodCourt_Cat       106\n",
      "ShoppingMall_Cat     98\n",
      "Spa_Cat             101\n",
      "VRDeck_Cat           80\n",
      "dtype: int64\n"
     ]
    }
   ],
   "source": [
    "print(\"NaNs per column:\")\n",
    "print(training_data.isna().sum())"
   ]
  },
  {
   "cell_type": "markdown",
   "metadata": {},
   "source": [
    "Just because I'm tired of fixing the data and really want to train the model right now, I'll just replace NaNs for their respective averages in each column :p"
   ]
  },
  {
   "cell_type": "code",
   "execution_count": 11,
   "metadata": {},
   "outputs": [],
   "source": [
    "means = training_data.mean(numeric_only=True).round().astype('Int64')\n",
    "training_data = training_data.fillna(means)"
   ]
  },
  {
   "cell_type": "code",
   "execution_count": 12,
   "metadata": {},
   "outputs": [
    {
     "name": "stdout",
     "output_type": "stream",
     "text": [
      "NaNs per column:\n",
      "HomePlanet          0\n",
      "CryoSleep           0\n",
      "Destination         0\n",
      "Age                 0\n",
      "VIP                 0\n",
      "Cabin_ID_1          0\n",
      "Cabin_ID_2          0\n",
      "Cabin_ID_3          0\n",
      "GroupRank           0\n",
      "GroupSize           0\n",
      "RoomService_Cat     0\n",
      "FoodCourt_Cat       0\n",
      "ShoppingMall_Cat    0\n",
      "Spa_Cat             0\n",
      "VRDeck_Cat          0\n",
      "dtype: int64\n"
     ]
    }
   ],
   "source": [
    "print(\"NaNs per column:\")\n",
    "print(training_data.isna().sum())"
   ]
  },
  {
   "cell_type": "markdown",
   "metadata": {},
   "source": [
    "No more invald values! Great. Let's scale the columns, reorganize them, and export the final training data."
   ]
  },
  {
   "cell_type": "code",
   "execution_count": 13,
   "metadata": {},
   "outputs": [
    {
     "data": {
      "text/html": [
       "<div>\n",
       "<style scoped>\n",
       "    .dataframe tbody tr th:only-of-type {\n",
       "        vertical-align: middle;\n",
       "    }\n",
       "\n",
       "    .dataframe tbody tr th {\n",
       "        vertical-align: top;\n",
       "    }\n",
       "\n",
       "    .dataframe thead th {\n",
       "        text-align: right;\n",
       "    }\n",
       "</style>\n",
       "<table border=\"1\" class=\"dataframe\">\n",
       "  <thead>\n",
       "    <tr style=\"text-align: right;\">\n",
       "      <th></th>\n",
       "      <th>HomePlanet</th>\n",
       "      <th>CryoSleep</th>\n",
       "      <th>Destination</th>\n",
       "      <th>Age</th>\n",
       "      <th>VIP</th>\n",
       "      <th>Cabin_ID_1</th>\n",
       "      <th>Cabin_ID_2</th>\n",
       "      <th>Cabin_ID_3</th>\n",
       "      <th>GroupRank</th>\n",
       "      <th>GroupSize</th>\n",
       "      <th>EssentialSpendingCat</th>\n",
       "      <th>NonEssentialSpendingCat</th>\n",
       "    </tr>\n",
       "  </thead>\n",
       "  <tbody>\n",
       "    <tr>\n",
       "      <th>0</th>\n",
       "      <td>0.0</td>\n",
       "      <td>1</td>\n",
       "      <td>0.0</td>\n",
       "      <td>27.0</td>\n",
       "      <td>0</td>\n",
       "      <td>14</td>\n",
       "      <td>3</td>\n",
       "      <td>4</td>\n",
       "      <td>1</td>\n",
       "      <td>1</td>\n",
       "      <td>0</td>\n",
       "      <td>0</td>\n",
       "    </tr>\n",
       "    <tr>\n",
       "      <th>1</th>\n",
       "      <td>0.0</td>\n",
       "      <td>0</td>\n",
       "      <td>0.0</td>\n",
       "      <td>19.0</td>\n",
       "      <td>0</td>\n",
       "      <td>13</td>\n",
       "      <td>4</td>\n",
       "      <td>4</td>\n",
       "      <td>1</td>\n",
       "      <td>1</td>\n",
       "      <td>1</td>\n",
       "      <td>3</td>\n",
       "    </tr>\n",
       "    <tr>\n",
       "      <th>2</th>\n",
       "      <td>1.0</td>\n",
       "      <td>1</td>\n",
       "      <td>1.0</td>\n",
       "      <td>31.0</td>\n",
       "      <td>0</td>\n",
       "      <td>10</td>\n",
       "      <td>0</td>\n",
       "      <td>4</td>\n",
       "      <td>1</td>\n",
       "      <td>1</td>\n",
       "      <td>0</td>\n",
       "      <td>0</td>\n",
       "    </tr>\n",
       "    <tr>\n",
       "      <th>3</th>\n",
       "      <td>1.0</td>\n",
       "      <td>0</td>\n",
       "      <td>0.0</td>\n",
       "      <td>38.0</td>\n",
       "      <td>0</td>\n",
       "      <td>10</td>\n",
       "      <td>1</td>\n",
       "      <td>4</td>\n",
       "      <td>1</td>\n",
       "      <td>1</td>\n",
       "      <td>3</td>\n",
       "      <td>2</td>\n",
       "    </tr>\n",
       "    <tr>\n",
       "      <th>4</th>\n",
       "      <td>0.0</td>\n",
       "      <td>0</td>\n",
       "      <td>0.0</td>\n",
       "      <td>20.0</td>\n",
       "      <td>0</td>\n",
       "      <td>13</td>\n",
       "      <td>5</td>\n",
       "      <td>4</td>\n",
       "      <td>1</td>\n",
       "      <td>1</td>\n",
       "      <td>0</td>\n",
       "      <td>2</td>\n",
       "    </tr>\n",
       "    <tr>\n",
       "      <th>...</th>\n",
       "      <td>...</td>\n",
       "      <td>...</td>\n",
       "      <td>...</td>\n",
       "      <td>...</td>\n",
       "      <td>...</td>\n",
       "      <td>...</td>\n",
       "      <td>...</td>\n",
       "      <td>...</td>\n",
       "      <td>...</td>\n",
       "      <td>...</td>\n",
       "      <td>...</td>\n",
       "      <td>...</td>\n",
       "    </tr>\n",
       "    <tr>\n",
       "      <th>4272</th>\n",
       "      <td>0.0</td>\n",
       "      <td>1</td>\n",
       "      <td>0.0</td>\n",
       "      <td>34.0</td>\n",
       "      <td>0</td>\n",
       "      <td>14</td>\n",
       "      <td>1496</td>\n",
       "      <td>4</td>\n",
       "      <td>2</td>\n",
       "      <td>2</td>\n",
       "      <td>0</td>\n",
       "      <td>0</td>\n",
       "    </tr>\n",
       "    <tr>\n",
       "      <th>4273</th>\n",
       "      <td>0.0</td>\n",
       "      <td>0</td>\n",
       "      <td>0.0</td>\n",
       "      <td>42.0</td>\n",
       "      <td>0</td>\n",
       "      <td>0</td>\n",
       "      <td>1489</td>\n",
       "      <td>1</td>\n",
       "      <td>1</td>\n",
       "      <td>1</td>\n",
       "      <td>3</td>\n",
       "      <td>1</td>\n",
       "    </tr>\n",
       "    <tr>\n",
       "      <th>4274</th>\n",
       "      <td>2.0</td>\n",
       "      <td>1</td>\n",
       "      <td>1.0</td>\n",
       "      <td>29.0</td>\n",
       "      <td>0</td>\n",
       "      <td>11</td>\n",
       "      <td>296</td>\n",
       "      <td>3</td>\n",
       "      <td>1</td>\n",
       "      <td>1</td>\n",
       "      <td>0</td>\n",
       "      <td>0</td>\n",
       "    </tr>\n",
       "    <tr>\n",
       "      <th>4275</th>\n",
       "      <td>1.0</td>\n",
       "      <td>0</td>\n",
       "      <td>0.0</td>\n",
       "      <td>29.0</td>\n",
       "      <td>0</td>\n",
       "      <td>11</td>\n",
       "      <td>297</td>\n",
       "      <td>3</td>\n",
       "      <td>1</td>\n",
       "      <td>1</td>\n",
       "      <td>3</td>\n",
       "      <td>2</td>\n",
       "    </tr>\n",
       "    <tr>\n",
       "      <th>4276</th>\n",
       "      <td>0.0</td>\n",
       "      <td>1</td>\n",
       "      <td>2.0</td>\n",
       "      <td>43.0</td>\n",
       "      <td>0</td>\n",
       "      <td>14</td>\n",
       "      <td>1498</td>\n",
       "      <td>4</td>\n",
       "      <td>1</td>\n",
       "      <td>1</td>\n",
       "      <td>0</td>\n",
       "      <td>0</td>\n",
       "    </tr>\n",
       "  </tbody>\n",
       "</table>\n",
       "<p>4277 rows × 12 columns</p>\n",
       "</div>"
      ],
      "text/plain": [
       "      HomePlanet  CryoSleep  Destination   Age  VIP  Cabin_ID_1  Cabin_ID_2  \\\n",
       "0            0.0          1          0.0  27.0    0          14           3   \n",
       "1            0.0          0          0.0  19.0    0          13           4   \n",
       "2            1.0          1          1.0  31.0    0          10           0   \n",
       "3            1.0          0          0.0  38.0    0          10           1   \n",
       "4            0.0          0          0.0  20.0    0          13           5   \n",
       "...          ...        ...          ...   ...  ...         ...         ...   \n",
       "4272         0.0          1          0.0  34.0    0          14        1496   \n",
       "4273         0.0          0          0.0  42.0    0           0        1489   \n",
       "4274         2.0          1          1.0  29.0    0          11         296   \n",
       "4275         1.0          0          0.0  29.0    0          11         297   \n",
       "4276         0.0          1          2.0  43.0    0          14        1498   \n",
       "\n",
       "      Cabin_ID_3  GroupRank  GroupSize  EssentialSpendingCat  \\\n",
       "0              4          1          1                     0   \n",
       "1              4          1          1                     1   \n",
       "2              4          1          1                     0   \n",
       "3              4          1          1                     3   \n",
       "4              4          1          1                     0   \n",
       "...          ...        ...        ...                   ...   \n",
       "4272           4          2          2                     0   \n",
       "4273           1          1          1                     3   \n",
       "4274           3          1          1                     0   \n",
       "4275           3          1          1                     3   \n",
       "4276           4          1          1                     0   \n",
       "\n",
       "      NonEssentialSpendingCat  \n",
       "0                           0  \n",
       "1                           3  \n",
       "2                           0  \n",
       "3                           2  \n",
       "4                           2  \n",
       "...                       ...  \n",
       "4272                        0  \n",
       "4273                        1  \n",
       "4274                        0  \n",
       "4275                        2  \n",
       "4276                        0  \n",
       "\n",
       "[4277 rows x 12 columns]"
      ]
     },
     "execution_count": 13,
     "metadata": {},
     "output_type": "execute_result"
    }
   ],
   "source": [
    "# Before that, let's group essential and non-essential categories together\n",
    "def avg_nonzero(cols):\n",
    "    def compute(row):\n",
    "        values = [row[col] for col in cols if row[col] > 0]\n",
    "        return sum(values) / len(values) if values else 0\n",
    "    return compute\n",
    "\n",
    "essential = [\"FoodCourt_Cat\"]\n",
    "non_essential = [\"RoomService_Cat\", \"ShoppingMall_Cat\", \"Spa_Cat\", \"VRDeck_Cat\"]\n",
    "\n",
    "training_data[\"EssentialSpendingCat\"] = training_data.apply(avg_nonzero(essential), axis=1).round().astype(int)\n",
    "training_data[\"NonEssentialSpendingCat\"] = training_data.apply(avg_nonzero(non_essential), axis=1).round().astype(int)\n",
    "\n",
    "training_data.drop(essential+non_essential, axis=1)\n"
   ]
  },
  {
   "cell_type": "code",
   "execution_count": null,
   "metadata": {},
   "outputs": [
    {
     "name": "stdout",
     "output_type": "stream",
     "text": [
      "      HomePlanet  CryoSleep  Destination   Age  VIP  Cabin_ID_1  Cabin_ID_2  \\\n",
      "0            0.0          1          0.0  27.0    0          14           3   \n",
      "1            0.0          0          0.0  19.0    0          13           4   \n",
      "2            1.0          1          1.0  31.0    0          10           0   \n",
      "3            1.0          0          0.0  38.0    0          10           1   \n",
      "4            0.0          0          0.0  20.0    0          13           5   \n",
      "...          ...        ...          ...   ...  ...         ...         ...   \n",
      "4272         0.0          1          0.0  34.0    0          14        1496   \n",
      "4273         0.0          0          0.0  42.0    0           0        1489   \n",
      "4274         2.0          1          1.0  29.0    0          11         296   \n",
      "4275         1.0          0          0.0  29.0    0          11         297   \n",
      "4276         0.0          1          2.0  43.0    0          14        1498   \n",
      "\n",
      "      Cabin_ID_3  GroupRank  GroupSize  RoomService_Cat  FoodCourt_Cat  \\\n",
      "0              4          1          1                0              0   \n",
      "1              4          1          1                0              1   \n",
      "2              4          1          1                0              0   \n",
      "3              4          1          1                0              3   \n",
      "4              4          1          1                1              0   \n",
      "...          ...        ...        ...              ...            ...   \n",
      "4272           4          2          2                0              0   \n",
      "4273           1          1          1                0              3   \n",
      "4274           3          1          1                0              0   \n",
      "4275           3          1          1                0              3   \n",
      "4276           4          1          1                0              0   \n",
      "\n",
      "      ShoppingMall_Cat  Spa_Cat  VRDeck_Cat  EssentialSpendingCat  \\\n",
      "0                    0        0           0                     0   \n",
      "1                    0        3           0                     1   \n",
      "2                    0        0           0                     0   \n",
      "3                    0        2           2                     3   \n",
      "4                    3        0           0                     0   \n",
      "...                ...      ...         ...                   ...   \n",
      "4272                 0        0           0                     0   \n",
      "4273                 1        1           2                     3   \n",
      "4274                 0        0           0                     0   \n",
      "4275                 0        0           2                     3   \n",
      "4276                 0        0           0                     0   \n",
      "\n",
      "      NonEssentialSpendingCat  \n",
      "0                           0  \n",
      "1                           3  \n",
      "2                           0  \n",
      "3                           2  \n",
      "4                           2  \n",
      "...                       ...  \n",
      "4272                        0  \n",
      "4273                        1  \n",
      "4274                        0  \n",
      "4275                        2  \n",
      "4276                        0  \n",
      "\n",
      "[4277 rows x 17 columns]\n"
     ]
    }
   ],
   "source": [
    "# Get the \"Transported\" column to the end of the df\n",
    "col = training_data.pop(\"Transported\")\n",
    "training_data[\"Transported\"] = col\n",
    "\n",
    "# Save processed training data in a new CSV\n",
    "training_data.to_csv(base_file_path+'test_processed.csv', index=False)\n",
    "\n",
    "print(training_data)"
   ]
  },
  {
   "cell_type": "markdown",
   "metadata": {},
   "source": [
    "### TODO\n",
    "- ~~Replacing cabin_1, cabin_3 for numerical data~~\n",
    "- ~~Turning Passenger IDs into numbers~~\n",
    "- Turn Cabin IDs into more relevant stuff, do some feature eng\n",
    "- ~~Turn RoomService,FoodCourt,ShoppingMall,Spa,VRDeck into spending categories (maybe with percentiles?) instead of numbers~~ \n",
    "- Group non-essential and essential spending categories together"
   ]
  }
 ],
 "metadata": {
  "colab": {
   "provenance": []
  },
  "kernelspec": {
   "display_name": ".venv",
   "language": "python",
   "name": "python3"
  },
  "language_info": {
   "codemirror_mode": {
    "name": "ipython",
    "version": 3
   },
   "file_extension": ".py",
   "mimetype": "text/x-python",
   "name": "python",
   "nbconvert_exporter": "python",
   "pygments_lexer": "ipython3",
   "version": "3.12.3"
  }
 },
 "nbformat": 4,
 "nbformat_minor": 0
}
